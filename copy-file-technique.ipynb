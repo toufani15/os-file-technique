{
 "cells": [
  {
   "cell_type": "code",
   "execution_count": null,
   "metadata": {},
   "outputs": [],
   "source": [
    "import shutil\n",
    "import os\n",
    "import glob\n",
    "os.cop"
   ]
  },
  {
   "cell_type": "code",
   "execution_count": 33,
   "metadata": {},
   "outputs": [],
   "source": [
    "source = 'LINKEDIN_LEARNING/Ex_Files_OpenCV_Python_Dev/Exercise Files/'\n",
    "src = glob.glob(source+'*/*/*')\n",
    "for i,j in enumerate(src):\n",
    "    if j.endswith('.jpg'):\n",
    "        shutil.copy(src[i], 'LINKEDIN_LEARNING/learn-opencv-with-python/dataset/')"
   ]
  },
  {
   "cell_type": "code",
   "execution_count": 34,
   "metadata": {},
   "outputs": [],
   "source": [
    "source = 'LINKEDIN_LEARNING/Ex_Files_OpenCV_Python_Dev/Exercise Files/'\n",
    "src = glob.glob(source+'*/*/*')\n",
    "for i,j in enumerate(src):\n",
    "    if j.endswith('.png'):\n",
    "        shutil.copy(src[i], 'LINKEDIN_LEARNING/learn-opencv-with-python/dataset/')"
   ]
  },
  {
   "cell_type": "code",
   "execution_count": 35,
   "metadata": {},
   "outputs": [],
   "source": [
    "source = 'LINKEDIN_LEARNING/Ex_Files_OpenCV_Python_Dev/Exercise Files/'\n",
    "src = glob.glob(source+'*/*/*')\n",
    "for i,j in enumerate(src):\n",
    "    if j.endswith('.jpeg'):\n",
    "        shutil.copy(src[i], 'LINKEDIN_LEARNING/learn-opencv-with-python/dataset/')"
   ]
  },
  {
   "cell_type": "code",
   "execution_count": null,
   "metadata": {},
   "outputs": [],
   "source": []
  }
 ],
 "metadata": {
  "kernelspec": {
   "display_name": "Python [conda env:lab]",
   "language": "python",
   "name": "conda-env-lab-py"
  },
  "language_info": {
   "codemirror_mode": {
    "name": "ipython",
    "version": 3
   },
   "file_extension": ".py",
   "mimetype": "text/x-python",
   "name": "python",
   "nbconvert_exporter": "python",
   "pygments_lexer": "ipython3",
   "version": "3.6.7"
  }
 },
 "nbformat": 4,
 "nbformat_minor": 2
}
